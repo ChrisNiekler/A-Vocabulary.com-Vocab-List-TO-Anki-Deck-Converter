{
  "nbformat": 4,
  "nbformat_minor": 0,
  "metadata": {
    "kernelspec": {
      "display_name": "Python 3",
      "language": "python",
      "name": "python3"
    },
    "language_info": {
      "codemirror_mode": {
        "name": "ipython",
        "version": 3
      },
      "file_extension": ".py",
      "mimetype": "text/x-python",
      "name": "python",
      "nbconvert_exporter": "python",
      "pygments_lexer": "ipython3",
      "version": "3.9.6"
    },
    "varInspector": {
      "cols": {
        "lenName": 16,
        "lenType": 16,
        "lenVar": 40
      },
      "kernels_config": {
        "python": {
          "delete_cmd_postfix": "",
          "delete_cmd_prefix": "del ",
          "library": "var_list.py",
          "varRefreshCmd": "print(var_dic_list())"
        },
        "r": {
          "delete_cmd_postfix": ") ",
          "delete_cmd_prefix": "rm(",
          "library": "var_list.r",
          "varRefreshCmd": "cat(var_dic_list()) "
        }
      },
      "types_to_exclude": [
        "module",
        "function",
        "builtin_function_or_method",
        "instance",
        "_Feature"
      ],
      "window_display": false
    },
    "colab": {
      "name": "Portfolio_Task_2.ipynb",
      "provenance": []
    }
  },
  "cells": [
    {
      "cell_type": "code",
      "metadata": {
        "ExecuteTime": {
          "end_time": "2021-11-07T14:20:07.437221Z",
          "start_time": "2021-11-07T14:20:07.243176Z"
        },
        "id": "2-XKh0lN3oHs"
      },
      "source": [
        "import pandas as pd\n",
        "import numpy as np"
      ],
      "execution_count": 20,
      "outputs": []
    },
    {
      "cell_type": "code",
      "metadata": {
        "ExecuteTime": {
          "end_time": "2021-11-07T14:20:08.270004Z",
          "start_time": "2021-11-07T14:20:08.236996Z"
        },
        "id": "ZXBIyKB03oHu"
      },
      "source": [
        "sad = pd.read_csv(\"https://raw.githubusercontent.com/ChrisNiekler/NLP/main/emotion_sad.csv\")\n",
        "happy = pd.read_csv(\"https://raw.githubusercontent.com/ChrisNiekler/NLP/main/emotion_happy.csv\")\n",
        "angry = pd.read_csv(\"https://raw.githubusercontent.com/ChrisNiekler/NLP/main/emotion_angry.csv\")"
      ],
      "execution_count": 22,
      "outputs": []
    },
    {
      "cell_type": "code",
      "metadata": {
        "ExecuteTime": {
          "end_time": "2021-11-07T14:20:09.120308Z",
          "start_time": "2021-11-07T14:20:09.118307Z"
        },
        "colab": {
          "base_uri": "https://localhost:8080/"
        },
        "id": "6ZYbS2Pw3oHu",
        "outputId": "e04db48c-c8a2-4f1b-b023-4823fa01d606"
      },
      "source": [
        "print(\"Sad   size\" , sad.size)\n",
        "print(\"Happy size\" , happy.size)\n",
        "print(\"Angry size\" , angry.size)"
      ],
      "execution_count": 23,
      "outputs": [
        {
          "output_type": "stream",
          "name": "stdout",
          "text": [
            "Sad   size 1270\n",
            "Happy size 1416\n",
            "Angry size 1392\n"
          ]
        }
      ]
    },
    {
      "cell_type": "code",
      "metadata": {
        "ExecuteTime": {
          "end_time": "2021-11-07T14:20:10.508969Z",
          "start_time": "2021-11-07T14:20:10.504968Z"
        },
        "id": "8GoRkWXv3oHv"
      },
      "source": [
        "# merge dataframes and shuffle \n",
        "data = pd.concat([sad, happy, angry]).sample(frac=1)"
      ],
      "execution_count": 24,
      "outputs": []
    },
    {
      "cell_type": "code",
      "metadata": {
        "ExecuteTime": {
          "end_time": "2021-11-07T14:20:11.379000Z",
          "start_time": "2021-11-07T14:20:11.369998Z"
        },
        "colab": {
          "base_uri": "https://localhost:8080/",
          "height": 359
        },
        "id": "eebmqt8z3oHv",
        "outputId": "7231c020-dcd7-4f2a-9d37-ba5e42f99688"
      },
      "source": [
        "data.head(10)"
      ],
      "execution_count": 25,
      "outputs": [
        {
          "output_type": "execute_result",
          "data": {
            "text/html": [
              "<div>\n",
              "<style scoped>\n",
              "    .dataframe tbody tr th:only-of-type {\n",
              "        vertical-align: middle;\n",
              "    }\n",
              "\n",
              "    .dataframe tbody tr th {\n",
              "        vertical-align: top;\n",
              "    }\n",
              "\n",
              "    .dataframe thead th {\n",
              "        text-align: right;\n",
              "    }\n",
              "</style>\n",
              "<table border=\"1\" class=\"dataframe\">\n",
              "  <thead>\n",
              "    <tr style=\"text-align: right;\">\n",
              "      <th></th>\n",
              "      <th>content</th>\n",
              "      <th>sentiment</th>\n",
              "    </tr>\n",
              "  </thead>\n",
              "  <tbody>\n",
              "    <tr>\n",
              "      <th>364</th>\n",
              "      <td>All angry persons are to be treated, by the pr...</td>\n",
              "      <td>angry</td>\n",
              "    </tr>\n",
              "    <tr>\n",
              "      <th>299</th>\n",
              "      <td>Some guys just dont realize how much one littl...</td>\n",
              "      <td>sad</td>\n",
              "    </tr>\n",
              "    <tr>\n",
              "      <th>530</th>\n",
              "      <td>['You Hurt Me But I Still Love You.', 'True Lo...</td>\n",
              "      <td>sad</td>\n",
              "    </tr>\n",
              "    <tr>\n",
              "      <th>24</th>\n",
              "      <td>Taking your ex back is like going to the junk ...</td>\n",
              "      <td>happy</td>\n",
              "    </tr>\n",
              "    <tr>\n",
              "      <th>616</th>\n",
              "      <td>Rain falls when cloud couldn’t bear the weight...</td>\n",
              "      <td>sad</td>\n",
              "    </tr>\n",
              "    <tr>\n",
              "      <th>537</th>\n",
              "      <td>It sucks when you realize you rejected other p...</td>\n",
              "      <td>angry</td>\n",
              "    </tr>\n",
              "    <tr>\n",
              "      <th>421</th>\n",
              "      <td>Love is sweet when it's new. But it is sweeter...</td>\n",
              "      <td>happy</td>\n",
              "    </tr>\n",
              "    <tr>\n",
              "      <th>326</th>\n",
              "      <td>Best One Line Angry Status for Whatsapp in Eng...</td>\n",
              "      <td>angry</td>\n",
              "    </tr>\n",
              "    <tr>\n",
              "      <th>175</th>\n",
              "      <td>['Hating Me Won’T Make You Pretty.', 'Anger Is...</td>\n",
              "      <td>angry</td>\n",
              "    </tr>\n",
              "    <tr>\n",
              "      <th>292</th>\n",
              "      <td>Enjoy the sound of a centered soul in the harm...</td>\n",
              "      <td>happy</td>\n",
              "    </tr>\n",
              "  </tbody>\n",
              "</table>\n",
              "</div>"
            ],
            "text/plain": [
              "                                               content sentiment\n",
              "364  All angry persons are to be treated, by the pr...     angry\n",
              "299  Some guys just dont realize how much one littl...       sad\n",
              "530  ['You Hurt Me But I Still Love You.', 'True Lo...       sad\n",
              "24   Taking your ex back is like going to the junk ...     happy\n",
              "616  Rain falls when cloud couldn’t bear the weight...       sad\n",
              "537  It sucks when you realize you rejected other p...     angry\n",
              "421  Love is sweet when it's new. But it is sweeter...     happy\n",
              "326  Best One Line Angry Status for Whatsapp in Eng...     angry\n",
              "175  ['Hating Me Won’T Make You Pretty.', 'Anger Is...     angry\n",
              "292  Enjoy the sound of a centered soul in the harm...     happy"
            ]
          },
          "metadata": {},
          "execution_count": 25
        }
      ]
    },
    {
      "cell_type": "code",
      "metadata": {
        "ExecuteTime": {
          "end_time": "2021-11-07T14:20:15.518982Z",
          "start_time": "2021-11-07T14:20:15.514981Z"
        },
        "colab": {
          "base_uri": "https://localhost:8080/"
        },
        "id": "LXvLZKX33oHw",
        "outputId": "a3322393-12e6-4964-fd28-7b4b961caa91"
      },
      "source": [
        "(data[\"content\"].isnull()).sum()"
      ],
      "execution_count": 26,
      "outputs": [
        {
          "output_type": "execute_result",
          "data": {
            "text/plain": [
              "0"
            ]
          },
          "metadata": {},
          "execution_count": 26
        }
      ]
    },
    {
      "cell_type": "code",
      "metadata": {
        "ExecuteTime": {
          "end_time": "2021-11-07T14:20:16.162039Z",
          "start_time": "2021-11-07T14:20:16.157037Z"
        },
        "colab": {
          "base_uri": "https://localhost:8080/"
        },
        "id": "uOIRbehZ3oHw",
        "outputId": "eb7591b1-4a30-46bd-a0cd-6e9a87aeef26"
      },
      "source": [
        "(data[\"sentiment\"].isnull()).sum()"
      ],
      "execution_count": 27,
      "outputs": [
        {
          "output_type": "execute_result",
          "data": {
            "text/plain": [
              "0"
            ]
          },
          "metadata": {},
          "execution_count": 27
        }
      ]
    },
    {
      "cell_type": "code",
      "metadata": {
        "ExecuteTime": {
          "end_time": "2021-11-07T14:20:16.738994Z",
          "start_time": "2021-11-07T14:20:16.735994Z"
        },
        "colab": {
          "base_uri": "https://localhost:8080/"
        },
        "id": "F2ZgYq0R3oHx",
        "outputId": "85da4e13-e36d-438a-dc93-5c1ecd97cd76"
      },
      "source": [
        "data.size"
      ],
      "execution_count": 28,
      "outputs": [
        {
          "output_type": "execute_result",
          "data": {
            "text/plain": [
              "4078"
            ]
          },
          "metadata": {},
          "execution_count": 28
        }
      ]
    },
    {
      "cell_type": "code",
      "metadata": {
        "ExecuteTime": {
          "end_time": "2021-11-07T14:20:17.299063Z",
          "start_time": "2021-11-07T14:20:17.291062Z"
        },
        "id": "5vzRBc-Y3oHx"
      },
      "source": [
        "data = data.duplicated(keep=False)"
      ],
      "execution_count": 29,
      "outputs": []
    },
    {
      "cell_type": "code",
      "metadata": {
        "ExecuteTime": {
          "end_time": "2021-11-07T14:20:19.055069Z",
          "start_time": "2021-11-07T14:20:19.052070Z"
        },
        "colab": {
          "base_uri": "https://localhost:8080/"
        },
        "id": "J__3aK_b3oHy",
        "outputId": "17847c6e-f03b-4ed8-a381-84ece2f4e131"
      },
      "source": [
        "data.size"
      ],
      "execution_count": 30,
      "outputs": [
        {
          "output_type": "execute_result",
          "data": {
            "text/plain": [
              "2039"
            ]
          },
          "metadata": {},
          "execution_count": 30
        }
      ]
    },
    {
      "cell_type": "code",
      "metadata": {
        "ExecuteTime": {
          "end_time": "2021-11-07T14:00:23.615974Z",
          "start_time": "2021-11-07T14:00:23.612974Z"
        },
        "id": "MgCaOSOz3oHy"
      },
      "source": [
        ""
      ],
      "execution_count": null,
      "outputs": []
    },
    {
      "cell_type": "code",
      "metadata": {
        "id": "p8XdeVmL3oHy"
      },
      "source": [
        ""
      ],
      "execution_count": null,
      "outputs": []
    }
  ]
}