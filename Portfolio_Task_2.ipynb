{
  "nbformat": 4,
  "nbformat_minor": 0,
  "metadata": {
    "kernelspec": {
      "display_name": "Python 3",
      "language": "python",
      "name": "python3"
    },
    "language_info": {
      "codemirror_mode": {
        "name": "ipython",
        "version": 3
      },
      "file_extension": ".py",
      "mimetype": "text/x-python",
      "name": "python",
      "nbconvert_exporter": "python",
      "pygments_lexer": "ipython3",
      "version": "3.9.6"
    },
    "varInspector": {
      "cols": {
        "lenName": 16,
        "lenType": 16,
        "lenVar": 40
      },
      "kernels_config": {
        "python": {
          "delete_cmd_postfix": "",
          "delete_cmd_prefix": "del ",
          "library": "var_list.py",
          "varRefreshCmd": "print(var_dic_list())"
        },
        "r": {
          "delete_cmd_postfix": ") ",
          "delete_cmd_prefix": "rm(",
          "library": "var_list.r",
          "varRefreshCmd": "cat(var_dic_list()) "
        }
      },
      "types_to_exclude": [
        "module",
        "function",
        "builtin_function_or_method",
        "instance",
        "_Feature"
      ],
      "window_display": false
    },
    "colab": {
      "name": "Portfolio_Task_2.ipynb",
      "provenance": [],
      "include_colab_link": true
    }
  },
  "cells": [
    {
      "cell_type": "markdown",
      "metadata": {
        "id": "view-in-github",
        "colab_type": "text"
      },
      "source": [
        "<a href=\"https://colab.research.google.com/github/ChrisNiekler/A-Vocabulary.com-Vocab-List-TO-Anki-Deck-Converter/blob/master/Portfolio_Task_2.ipynb\" target=\"_parent\"><img src=\"https://colab.research.google.com/assets/colab-badge.svg\" alt=\"Open In Colab\"/></a>"
      ]
    },
    {
      "cell_type": "markdown",
      "metadata": {
        "id": "l1_b_OoWstIz"
      },
      "source": [
        "##  Make your corpus accessible"
      ]
    },
    {
      "cell_type": "code",
      "metadata": {
        "ExecuteTime": {
          "end_time": "2021-11-07T14:20:07.437221Z",
          "start_time": "2021-11-07T14:20:07.243176Z"
        },
        "id": "2-XKh0lN3oHs"
      },
      "source": [
        "import pandas as pd\n",
        "import numpy as np"
      ],
      "execution_count": 1,
      "outputs": []
    },
    {
      "cell_type": "code",
      "metadata": {
        "ExecuteTime": {
          "end_time": "2021-11-07T14:20:08.270004Z",
          "start_time": "2021-11-07T14:20:08.236996Z"
        },
        "id": "ZXBIyKB03oHu"
      },
      "source": [
        "sad = pd.read_csv(\"https://raw.githubusercontent.com/ChrisNiekler/NLP/master/emotion_sad.csv\")\n",
        "happy = pd.read_csv(\"https://raw.githubusercontent.com/ChrisNiekler/NLP/master/emotion_happy.csv\")\n",
        "angry = pd.read_csv(\"https://raw.githubusercontent.com/ChrisNiekler/NLP/master/emotion_angry.csv\")\n",
        "neutral = pd.read_csv(\"https://raw.githubusercontent.com/ChrisNiekler/NLP/master/emotion_neutral.csv\")"
      ],
      "execution_count": 2,
      "outputs": []
    },
    {
      "cell_type": "code",
      "metadata": {
        "ExecuteTime": {
          "end_time": "2021-11-07T14:20:09.120308Z",
          "start_time": "2021-11-07T14:20:09.118307Z"
        },
        "colab": {
          "base_uri": "https://localhost:8080/"
        },
        "id": "6ZYbS2Pw3oHu",
        "outputId": "93dec368-1cb9-4f7d-b33e-584aa7708d31"
      },
      "source": [
        "print(\"Sad   size\" , sad.shape)\n",
        "print(\"Happy size\" , happy.shape)\n",
        "print(\"Angry size\" , angry.shape)\n",
        "print(\"Neutral size\", neutral.shape)"
      ],
      "execution_count": 3,
      "outputs": [
        {
          "output_type": "stream",
          "name": "stdout",
          "text": [
            "Sad   size (635, 2)\n",
            "Happy size (697, 2)\n",
            "Angry size (563, 2)\n",
            "Neutral size (17, 2)\n"
          ]
        }
      ]
    },
    {
      "cell_type": "code",
      "metadata": {
        "ExecuteTime": {
          "end_time": "2021-11-07T14:20:10.508969Z",
          "start_time": "2021-11-07T14:20:10.504968Z"
        },
        "id": "8GoRkWXv3oHv"
      },
      "source": [
        "# merge dataframes and shuffle \n",
        "data = pd.concat([sad, happy, angry, neutral]).sample(frac=1)"
      ],
      "execution_count": 4,
      "outputs": []
    },
    {
      "cell_type": "code",
      "metadata": {
        "ExecuteTime": {
          "end_time": "2021-11-07T14:20:11.379000Z",
          "start_time": "2021-11-07T14:20:11.369998Z"
        },
        "colab": {
          "base_uri": "https://localhost:8080/",
          "height": 359
        },
        "id": "eebmqt8z3oHv",
        "outputId": "1ccee58d-d9ce-4ed3-ab11-844c4a2b9793"
      },
      "source": [
        "data.head(10)"
      ],
      "execution_count": 5,
      "outputs": [
        {
          "output_type": "execute_result",
          "data": {
            "text/html": [
              "<div>\n",
              "<style scoped>\n",
              "    .dataframe tbody tr th:only-of-type {\n",
              "        vertical-align: middle;\n",
              "    }\n",
              "\n",
              "    .dataframe tbody tr th {\n",
              "        vertical-align: top;\n",
              "    }\n",
              "\n",
              "    .dataframe thead th {\n",
              "        text-align: right;\n",
              "    }\n",
              "</style>\n",
              "<table border=\"1\" class=\"dataframe\">\n",
              "  <thead>\n",
              "    <tr style=\"text-align: right;\">\n",
              "      <th></th>\n",
              "      <th>content</th>\n",
              "      <th>sentiment</th>\n",
              "    </tr>\n",
              "  </thead>\n",
              "  <tbody>\n",
              "    <tr>\n",
              "      <th>465</th>\n",
              "      <td>If you had enough time to cheat, you had enoug...</td>\n",
              "      <td>sad</td>\n",
              "    </tr>\n",
              "    <tr>\n",
              "      <th>497</th>\n",
              "      <td>I don’t usually lose my temper, but if I get a...</td>\n",
              "      <td>angry</td>\n",
              "    </tr>\n",
              "    <tr>\n",
              "      <th>262</th>\n",
              "      <td>Sculpt away misery engraving happiness into yo...</td>\n",
              "      <td>happy</td>\n",
              "    </tr>\n",
              "    <tr>\n",
              "      <th>131</th>\n",
              "      <td>Dear whoever is reading this... You're beautif...</td>\n",
              "      <td>happy</td>\n",
              "    </tr>\n",
              "    <tr>\n",
              "      <th>202</th>\n",
              "      <td>Tears are prayers too. They travel to God when...</td>\n",
              "      <td>sad</td>\n",
              "    </tr>\n",
              "    <tr>\n",
              "      <th>607</th>\n",
              "      <td>I don't want anyone else to have your heart, k...</td>\n",
              "      <td>happy</td>\n",
              "    </tr>\n",
              "    <tr>\n",
              "      <th>446</th>\n",
              "      <td>There are no words to describe the anger and f...</td>\n",
              "      <td>angry</td>\n",
              "    </tr>\n",
              "    <tr>\n",
              "      <th>32</th>\n",
              "      <td>You don’t realise how lonely you r until it’s ...</td>\n",
              "      <td>sad</td>\n",
              "    </tr>\n",
              "    <tr>\n",
              "      <th>439</th>\n",
              "      <td>Never forget what someone says to you when the...</td>\n",
              "      <td>angry</td>\n",
              "    </tr>\n",
              "    <tr>\n",
              "      <th>1</th>\n",
              "      <td>Love is a long sweet dream &amp; marriage is an al...</td>\n",
              "      <td>sad</td>\n",
              "    </tr>\n",
              "  </tbody>\n",
              "</table>\n",
              "</div>"
            ],
            "text/plain": [
              "                                               content sentiment\n",
              "465  If you had enough time to cheat, you had enoug...       sad\n",
              "497  I don’t usually lose my temper, but if I get a...     angry\n",
              "262  Sculpt away misery engraving happiness into yo...     happy\n",
              "131  Dear whoever is reading this... You're beautif...     happy\n",
              "202  Tears are prayers too. They travel to God when...       sad\n",
              "607  I don't want anyone else to have your heart, k...     happy\n",
              "446  There are no words to describe the anger and f...     angry\n",
              "32   You don’t realise how lonely you r until it’s ...       sad\n",
              "439  Never forget what someone says to you when the...     angry\n",
              "1    Love is a long sweet dream & marriage is an al...       sad"
            ]
          },
          "metadata": {},
          "execution_count": 5
        }
      ]
    },
    {
      "cell_type": "code",
      "metadata": {
        "ExecuteTime": {
          "end_time": "2021-11-07T14:20:15.518982Z",
          "start_time": "2021-11-07T14:20:15.514981Z"
        },
        "colab": {
          "base_uri": "https://localhost:8080/"
        },
        "id": "LXvLZKX33oHw",
        "outputId": "a6087867-60e3-4649-cf4b-280fa22cd8f6"
      },
      "source": [
        "(data[\"content\"].isnull()).sum()"
      ],
      "execution_count": 6,
      "outputs": [
        {
          "output_type": "execute_result",
          "data": {
            "text/plain": [
              "0"
            ]
          },
          "metadata": {},
          "execution_count": 6
        }
      ]
    },
    {
      "cell_type": "code",
      "metadata": {
        "ExecuteTime": {
          "end_time": "2021-11-07T14:20:16.162039Z",
          "start_time": "2021-11-07T14:20:16.157037Z"
        },
        "colab": {
          "base_uri": "https://localhost:8080/"
        },
        "id": "uOIRbehZ3oHw",
        "outputId": "44a951f1-22e0-432e-bd7e-f9d38669222b"
      },
      "source": [
        "(data[\"sentiment\"].isnull()).sum()"
      ],
      "execution_count": 7,
      "outputs": [
        {
          "output_type": "execute_result",
          "data": {
            "text/plain": [
              "0"
            ]
          },
          "metadata": {},
          "execution_count": 7
        }
      ]
    },
    {
      "cell_type": "code",
      "metadata": {
        "ExecuteTime": {
          "end_time": "2021-11-07T14:20:16.738994Z",
          "start_time": "2021-11-07T14:20:16.735994Z"
        },
        "colab": {
          "base_uri": "https://localhost:8080/"
        },
        "id": "F2ZgYq0R3oHx",
        "outputId": "2b76dec7-f42b-40a0-b957-cc7b7461bdd7"
      },
      "source": [
        "data.shape"
      ],
      "execution_count": 8,
      "outputs": [
        {
          "output_type": "execute_result",
          "data": {
            "text/plain": [
              "(1912, 2)"
            ]
          },
          "metadata": {},
          "execution_count": 8
        }
      ]
    },
    {
      "cell_type": "code",
      "metadata": {
        "ExecuteTime": {
          "end_time": "2021-11-07T14:20:17.299063Z",
          "start_time": "2021-11-07T14:20:17.291062Z"
        },
        "id": "5vzRBc-Y3oHx"
      },
      "source": [
        "#remove duplicates\n",
        "data = data.drop_duplicates()"
      ],
      "execution_count": 9,
      "outputs": []
    },
    {
      "cell_type": "code",
      "metadata": {
        "ExecuteTime": {
          "end_time": "2021-11-07T14:20:19.055069Z",
          "start_time": "2021-11-07T14:20:19.052070Z"
        },
        "colab": {
          "base_uri": "https://localhost:8080/"
        },
        "id": "J__3aK_b3oHy",
        "outputId": "f01a0d73-aab9-40e3-94be-db19bc69d399"
      },
      "source": [
        "data.shape"
      ],
      "execution_count": 10,
      "outputs": [
        {
          "output_type": "execute_result",
          "data": {
            "text/plain": [
              "(1573, 2)"
            ]
          },
          "metadata": {},
          "execution_count": 10
        }
      ]
    },
    {
      "cell_type": "markdown",
      "metadata": {
        "id": "nsRzmhf_tKjp"
      },
      "source": [
        "## Apply segmentation and tokenization to your data set, e.g. make paragraphs, sentences, words accessible."
      ]
    },
    {
      "cell_type": "code",
      "metadata": {
        "id": "aYBpr8s2tPTL",
        "outputId": "2abea68e-517b-4198-a16b-ea5be34b0fd9",
        "colab": {
          "base_uri": "https://localhost:8080/"
        }
      },
      "source": [
        "print(\"Apply segmentation and tokenization to your data set, e.g. make paragraphs, sentences, words accessible.\")"
      ],
      "execution_count": 11,
      "outputs": [
        {
          "output_type": "stream",
          "name": "stdout",
          "text": [
            "Apply segmentation and tokenization to your data set, e.g. make paragraphs, sentences, words accessible.\n"
          ]
        }
      ]
    },
    {
      "cell_type": "code",
      "metadata": {
        "id": "9ChjuDeZtRXv"
      },
      "source": [
        ""
      ],
      "execution_count": null,
      "outputs": []
    }
  ]
}